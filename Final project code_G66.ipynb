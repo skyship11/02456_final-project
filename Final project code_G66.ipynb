{
 "cells": [
  {
   "cell_type": "code",
   "execution_count": 1,
   "id": "7960dbfb",
   "metadata": {},
   "outputs": [
    {
     "name": "stdout",
     "output_type": "stream",
     "text": [
      "Defaulting to user installation because normal site-packages is not writeable\n",
      "Requirement already satisfied: openai in c:\\users\\hp\\appdata\\roaming\\python\\python311\\site-packages (0.28.0)\n",
      "Requirement already satisfied: requests>=2.20 in d:\\anaconda\\lib\\site-packages (from openai) (2.31.0)\n",
      "Requirement already satisfied: tqdm in d:\\anaconda\\lib\\site-packages (from openai) (4.65.0)\n",
      "Requirement already satisfied: aiohttp in d:\\anaconda\\lib\\site-packages (from openai) (3.8.5)\n",
      "Requirement already satisfied: charset-normalizer<4,>=2 in d:\\anaconda\\lib\\site-packages (from requests>=2.20->openai) (2.0.4)\n",
      "Requirement already satisfied: idna<4,>=2.5 in d:\\anaconda\\lib\\site-packages (from requests>=2.20->openai) (3.4)\n",
      "Requirement already satisfied: urllib3<3,>=1.21.1 in d:\\anaconda\\lib\\site-packages (from requests>=2.20->openai) (1.26.18)\n",
      "Requirement already satisfied: certifi>=2017.4.17 in d:\\anaconda\\lib\\site-packages (from requests>=2.20->openai) (2023.7.22)\n",
      "Requirement already satisfied: attrs>=17.3.0 in d:\\anaconda\\lib\\site-packages (from aiohttp->openai) (23.1.0)\n",
      "Requirement already satisfied: multidict<7.0,>=4.5 in d:\\anaconda\\lib\\site-packages (from aiohttp->openai) (6.0.2)\n",
      "Requirement already satisfied: async-timeout<5.0,>=4.0.0a3 in d:\\anaconda\\lib\\site-packages (from aiohttp->openai) (4.0.2)\n",
      "Requirement already satisfied: yarl<2.0,>=1.0 in d:\\anaconda\\lib\\site-packages (from aiohttp->openai) (1.8.1)\n",
      "Requirement already satisfied: frozenlist>=1.1.1 in d:\\anaconda\\lib\\site-packages (from aiohttp->openai) (1.4.0)\n",
      "Requirement already satisfied: aiosignal>=1.1.2 in d:\\anaconda\\lib\\site-packages (from aiohttp->openai) (1.2.0)\n",
      "Requirement already satisfied: colorama in d:\\anaconda\\lib\\site-packages (from tqdm->openai) (0.4.6)\n"
     ]
    }
   ],
   "source": [
    "!pip install openai"
   ]
  },
  {
   "cell_type": "code",
   "execution_count": 2,
   "id": "c61d5b7a",
   "metadata": {},
   "outputs": [
    {
     "name": "stdout",
     "output_type": "stream",
     "text": [
      "Defaulting to user installation because normal site-packages is not writeable\n",
      "Requirement already satisfied: pdfminer.six in c:\\users\\hp\\appdata\\roaming\\python\\python311\\site-packages (20221105)\n",
      "Requirement already satisfied: charset-normalizer>=2.0.0 in d:\\anaconda\\lib\\site-packages (from pdfminer.six) (2.0.4)\n",
      "Requirement already satisfied: cryptography>=36.0.0 in d:\\anaconda\\lib\\site-packages (from pdfminer.six) (41.0.3)\n",
      "Requirement already satisfied: cffi>=1.12 in d:\\anaconda\\lib\\site-packages (from cryptography>=36.0.0->pdfminer.six) (1.15.1)\n",
      "Requirement already satisfied: pycparser in d:\\anaconda\\lib\\site-packages (from cffi>=1.12->cryptography>=36.0.0->pdfminer.six) (2.21)\n"
     ]
    }
   ],
   "source": [
    "!pip install pdfminer.six"
   ]
  },
  {
   "cell_type": "markdown",
   "id": "3e17c282",
   "metadata": {},
   "source": [
    "## To extract content from a PDF and save it as a text file"
   ]
  },
  {
   "cell_type": "code",
   "execution_count": 3,
   "id": "2c567a6d",
   "metadata": {},
   "outputs": [],
   "source": [
    "from pdfminer.high_level import extract_text\n",
    "\n",
    "def extract_text_from_pdf_with_pdfminer(pdf_path):\n",
    "    text = extract_text(pdf_path)\n",
    "    return text\n",
    "\n",
    "def save_text_to_file(text, file_path):\n",
    "    with open(file_path, 'w', encoding='utf-8') as file:\n",
    "        file.write(text)\n",
    "\n",
    "pdf_path = r'D:\\DeepLearningonepage.pdf'\n",
    "text = extract_text_from_pdf_with_pdfminer(pdf_path)\n",
    "\n",
    "output_txt_path = r'D:\\DeepLearningonepage.txt'\n",
    "save_text_to_file(text, output_txt_path)"
   ]
  },
  {
   "cell_type": "markdown",
   "id": "ac0b0861",
   "metadata": {},
   "source": [
    "## To read a text file with GPT-4 and identify formulas, presenting them in LaTeX format"
   ]
  },
  {
   "cell_type": "code",
   "execution_count": 4,
   "id": "3afcfc23",
   "metadata": {},
   "outputs": [],
   "source": [
    "import openai\n",
    "\n",
    "# set up an OpenAI API key, follow these steps\n",
    "# we use a string of numbers instead of our used key just for safety\n",
    "openai.api_key = \"0123456789\""
   ]
  },
  {
   "cell_type": "markdown",
   "id": "b297f37d",
   "metadata": {},
   "source": [
    "## Txt Recognizer"
   ]
  },
  {
   "cell_type": "code",
   "execution_count": 5,
   "id": "5ee64026",
   "metadata": {
    "scrolled": true
   },
   "outputs": [
    {
     "name": "stdout",
     "output_type": "stream",
     "text": [
      "\n",
      "Query: Based on the content of example_text, please identify all the formulas and change them into latex format. Then show me the new content.\n",
      "New_Text: The text with the formulas in latex format is as follows:\n",
      "\n",
      "2.1. Warm up: a fast matrix-based approach to computing the output from a neural network\n",
      "\n",
      "41\n",
      "\n",
      "\\[j = \\sigma \\left(\\sum_{k} w^{l}_{jk} a^{l-1}_{k} + b^{l}_{j}\\right)\\]\n",
      "\n",
      "where the sum is over all neurons k in the (l-1)-th layer. To rewrite this expression in a matrix form we define a weight matrix \\(w^{l}\\) for each layer, l. The entries of the weight matrix \\(w^{l}\\) are just the weights connecting to the l-th layer of neurons, that is, the entry in the j-th row and k-th column is \\(w^{l}_{jk}\\). Similarly, for each layer l we define a bias vector, \\(b^{l}\\). You can probably guess how this works – the components of the bias vector are just the values \\(b^{l}_{j}\\), one component for each neuron in the l-th layer. And finally, we define an activation vector \\(a^{l}\\) whose components are the activations \\(a^{l}_{j}\\). The last ingredient we need to rewrite 2.1 in a matrix form is the idea of vectorizing a function such as \\(\\sigma\\). We met vectorization briefly in the last chapter, but to recap, the idea is that we want to apply a function such as \\(\\sigma\\) to every element in a vector v. We use the obvious notation \\(\\sigma(v)\\) to denote this kind of elementwise application of a function. That is, the components of \\(\\sigma(v)\\) are just \\(\\sigma(v)_{j} = \\sigma(v_{j})\\). As an example, if we have the function \\(f (x) = x^{2}\\) then the vectorized form of f has the effect\n",
      "\n",
      "\\[\\sigma \\left(\\begin{matrix} 2 \\\\ 3 \\end{matrix}\\right) = \\begin{matrix} f (2) \\\\ f (3) \\end{matrix} = \\begin{matrix} 4 \\\\ 9 \\end{matrix}\\]\n",
      "\n",
      "that is, the vectorized f just squares every element of the vector.\n",
      "\n",
      "With these notations in mind, Equation 2.1 can be rewritten in the beautiful and compact vectorized form\n",
      "\n",
      "\\[a^{l} = \\sigma(w^{l} a^{l-1} + b^{l})\\]\n",
      "\n",
      "This expression gives us a much more global way of thinking about how the activations in one layer relate to activations in the previous layer: we just apply the weight matrix to the activations, then add the bias vector, and finally apply the \\(\\sigma\\) function. That global view is often easier and more succinct (and involves fewer indices!) than the neuron-by-neuron view we’ve taken to now. Think of it as a way of escaping index hell, while remaining precise about what’s going on. The expression is also useful in practice, because most matrix libraries provide fast ways of implementing matrix multiplication, vector addition, and vectorization. Indeed, the code (see 1.6) in the last chapter made implicit use of this expression to compute the behavior of the network.\n",
      "\n",
      "When using Equation 2.3 to compute \\(a^{l}\\), we compute the intermediate quantity \\( z^{l-1} \\equiv w^{l} a^{l-1} + b^{l}\\) along the way. This quantity turns out to be useful enough to be worth naming: we call \\(z^{l}\\) the weighted input to the neurons in layer l. We’ll make considerable use of the weighted input \\( z^{l} \\) later in the chapter. Equation 2.3 is sometimes written in terms of the weighted input, as \\(a^{l}_{j} = \\sigma(z^{l}_{j})\\). It’s also worth noting that \\( z^{l} \\) has components \\( z^{l}_{j} \\), that is, \\(z^{l}_{j}\\) is just the weighted input to the activation function for neuron j in layer l.\n",
      "\n",
      "By the way, it’s this expression that motivates the quirk in the \\(w^{l}_{jk}\\) notation mentioned earlier. If we used j to index the input neuron, and k to index the output neuron, then we’d need to replace the weight matrix in Equation 2.3 by the transpose of the weight matrix. That’s a small change, but annoying, and we’d lose the easy simplicity of saying (and thinking) “apply the weight matrix to the activations”.\n"
     ]
    }
   ],
   "source": [
    "class TxtRecognizer:\n",
    "    def __init__(self, model=\"gpt-4-0613\", result_length=2048, with_prices=True):\n",
    "        self.model = model\n",
    "        self.with_prices = with_prices\n",
    "        self.result_length = result_length\n",
    "\n",
    "    def process(self, query: str, example_text: str):\n",
    "        # Construct conversational prompts\n",
    "        prompt = f\"{example_text}\\n\\nQuestion: {query}\\nAnswer:\"\n",
    "\n",
    "        # Generate responses using the Chat Completion interface\n",
    "        response = openai.ChatCompletion.create(\n",
    "            model=self.model,\n",
    "            messages=[\n",
    "                {\"role\": \"system\", \"content\": \"You are a helpful assistant.\"},\n",
    "                {\"role\": \"user\", \"content\": prompt}\n",
    "            ],\n",
    "            max_tokens=self.result_length,\n",
    "            temperature=0.7\n",
    "        )\n",
    "\n",
    "        # Extract responses\n",
    "        answer = response.choices[0].message['content'] if response.choices else \"No answer available.\"\n",
    "        return answer\n",
    "\n",
    "# read the content of txt file\n",
    "def read_text_from_file(file_path):\n",
    "    with open(file_path, 'r', encoding='utf-8') as file:\n",
    "        return file.read()\n",
    "\n",
    "# the path of txt file\n",
    "txt_file_path = 'D:\\DeepLearningonepage.txt'\n",
    "example_text = read_text_from_file(txt_file_path)\n",
    "\n",
    "# text the query\n",
    "query = \"Based on the content of example_text, please identify all the formulas and change them into latex format. Then show me the new content.\"\n",
    "txt_recognizer = TxtRecognizer()\n",
    "\n",
    "print(f\"\\nQuery: {query}\")\n",
    "new_text = txt_recognizer.process(query, example_text)\n",
    "print(f\"New_Text: {new_text}\")"
   ]
  },
  {
   "cell_type": "markdown",
   "id": "79aaee40",
   "metadata": {},
   "source": [
    "## TeacherAssistant"
   ]
  },
  {
   "cell_type": "code",
   "execution_count": 51,
   "id": "e01e74e5",
   "metadata": {
    "scrolled": false
   },
   "outputs": [
    {
     "name": "stdout",
     "output_type": "stream",
     "text": [
      "Generated Questions:\n",
      "1. What is the function of the weight matrix \\(w^{l}\\) in a neural network?\n",
      "2. How is the bias vector \\(b^{l}\\) defined for each layer in a neural network?\n",
      "3. What is the role of the activation vector \\(a^{l}\\) in a neural network?\n",
      "4. Explain the concept of vectorizing a function such as \\(\\sigma\\) in the context of neural networks.\n",
      "5. How can you apply the function \\(f(x) = x^{2}\\) to a vector in a vectorized form?\n",
      "6. How can Equation 2.1 be rewritten in a vectorized form?\n",
      "7. What is the global way of thinking about how the activations in one layer relate to activations in the previous layer of a neural network?\n",
      "8. How is the \"weighted input\" \\(z^{l}\\) defined in the context of a neural network?\n",
      "9. How is Equation 2.3 sometimes written in terms of the weighted input?\n",
      "10. What is the significance of the notation \\(z^{l}_{j}\\) in the context of a neural network?\n",
      "11. Why is the \\(w^{l}_{jk}\\) notation used instead of using j to index the input neuron and k to index the output neuron?\n",
      "12. Why is it beneficial to use matrix multiplication, vector addition, and vectorization in the context of neural networks?\n",
      "13. How does the expression \\(a^{l} = \\sigma(w^{l} a^{l-1} + b^{l})\\) help in understanding the behavior of a neural network?\n",
      "14. What is the importance of \\( z^{l-1} \\equiv w^{l} a^{l-1} + b^{l}\\) in the computation of \\(a^{l}\\)?\n"
     ]
    }
   ],
   "source": [
    "class TeacherAssistant:\n",
    "    def __init__(self, model=\"gpt-4-0613\", result_length=500):\n",
    "        self.model = model\n",
    "        self.result_length = result_length\n",
    "\n",
    "    def generate_questions(self, text, num_questions=14):\n",
    "        messages = [\n",
    "            {\"role\": \"system\", \"content\": \"You are a helpful assistant.\"},\n",
    "            {\"role\": \"user\", \"content\": f\"Based on the following text, generate {num_questions} relevant exam questions:\\n\\n{text}\"}\n",
    "        ]\n",
    "\n",
    "        response = openai.ChatCompletion.create(\n",
    "            model=self.model,\n",
    "            messages=messages,\n",
    "            max_tokens=self.result_length,\n",
    "            temperature=0.7\n",
    "        )\n",
    "\n",
    "        questions = response.choices[0].message['content'] if response.choices else \"No questions available.\"\n",
    "        return questions\n",
    "\n",
    "# the original text\n",
    "example_text = new_text\n",
    "\n",
    "# test TeacherAssistant class\n",
    "teacher_assistant = TeacherAssistant()\n",
    "\n",
    "# generate the questions\n",
    "generated_questions = teacher_assistant.generate_questions(example_text)\n",
    "print(f\"Generated Questions:\\n{generated_questions}\")"
   ]
  },
  {
   "cell_type": "markdown",
   "id": "03df438a",
   "metadata": {},
   "source": [
    "## similarity of questions"
   ]
  },
  {
   "cell_type": "code",
   "execution_count": 52,
   "id": "5ab1d5c6",
   "metadata": {},
   "outputs": [
    {
     "name": "stdout",
     "output_type": "stream",
     "text": [
      "tensor([0.9436])\n"
     ]
    }
   ],
   "source": [
    "from transformers import BertTokenizer, BertModel\n",
    "import torch\n",
    "\n",
    "# Check the relativity between the text generated by GPT-4-0613 and original material content\n",
    "# Load pre-trained model and tokenizer\n",
    "tokenizer = BertTokenizer.from_pretrained('bert-base-uncased')\n",
    "model = BertModel.from_pretrained('bert-base-uncased')\n",
    "\n",
    "# prepare text\n",
    "question_by_GPT4 =generated_questions\n",
    "\n",
    "question_from_text = new_text\n",
    "texts = [question_from_text, question_by_GPT4]\n",
    "\n",
    "# encode text\n",
    "encoded_input = tokenizer(texts, padding=True, truncation=True, return_tensors='pt')\n",
    "with torch.no_grad():\n",
    "    model_output = model(**encoded_input)\n",
    "\n",
    "# Extract features from the embedding layer\n",
    "embeddings = model_output.last_hidden_state.mean(dim=1)\n",
    "\n",
    "# compute the similarity\n",
    "cosine_similarity_ques_GPT4 = torch.nn.functional.cosine_similarity(embeddings[0].unsqueeze(0), embeddings[1].unsqueeze(0))\n",
    "print(cosine_similarity_ques_GPT4)"
   ]
  },
  {
   "cell_type": "markdown",
   "id": "2cdff993",
   "metadata": {},
   "source": [
    "## Student Assistant"
   ]
  },
  {
   "cell_type": "code",
   "execution_count": 53,
   "id": "4a3bd06a",
   "metadata": {
    "scrolled": true
   },
   "outputs": [
    {
     "name": "stdout",
     "output_type": "stream",
     "text": [
      "\n",
      "Query[1]: 1. What is the function of the weight matrix \\(w^{l}\\) in a neural network?\n",
      "Answer: The weight matrix \\(w^{l}\\) in a neural network plays a crucial role in determining the output of the network. Each entry in the weight matrix, \\(w^{l}_{jk}\\), represents the weight connecting the k-th neuron in the (l-1)-th layer to the j-th neuron in the l-th layer. The weight matrix is used to apply these weights to the activations from the previous layer. When calculating the activations for the current layer, the weight matrix is multiplied with the activation vector from the previous layer. This operation is part of the process that transforms the input data within the network to produce the final output. In other words, the weight matrix helps to control how much influence each input (from the previous layer's neurons) has on the next layer's neurons. The weight matrices are typically initialized randomly and are adjusted during the learning process to improve the performance of the neural network.\n",
      "\n",
      "Query[2]: 2. How is the bias vector \\(b^{l}\\) defined for each layer in a neural network?\n",
      "Answer: The bias vector \\(b^{l}\\) for each layer in a neural network is defined as a vector whose components are the bias values \\(b^{l}_{j}\\) for each neuron in the l-th layer.\n",
      "\n",
      "Query[3]: 3. What is the role of the activation vector \\(a^{l}\\) in a neural network?\n",
      "Answer: The activation vector \\(a^{l}\\) in a neural network represents the activations of each neuron in a particular layer l. In other words, it contains the output values of all neurons in that layer. The role of the activation vector is crucial as it helps in propagating information from one layer to the next in the neural network. The output from one layer (represented by the activation vector) becomes the input for the next layer. Thus, it is instrumental in the functioning and performance of the neural network. The activation vector allows for the global view of the network's behavior, making the process of understanding and computation easier and more efficient.\n",
      "\n",
      "Query[4]: 4. Explain the concept of vectorizing a function such as \\(\\sigma\\) in the context of neural networks.\n",
      "Answer: Vectorizing a function, such as \\(\\sigma\\), in the context of neural networks refers to the process of applying the function to every element in a vector. This is usually done for efficiency reasons as it allows for parallel computation of the function across the vector's elements. This concept becomes particularly useful when working with high-dimensional data, which is often the case in neural networks.\n",
      "\n",
      "For instance, the function \\(\\sigma\\) might be applied to the vector of weighted inputs to a layer in a neural network. Instead of computing the \\(\\sigma\\) function for each input one at a time, we can vectorize the function and compute it for all inputs simultaneously. \n",
      "\n",
      "In the notation \\(\\sigma(v)\\), this denotes elementwise application of the function, which means the components of \\(\\sigma(v)\\) are just \\(\\sigma(v)_{j} = \\sigma(v_{j})\\). This vectorized approach simplifies the notation, makes the computation more efficient, and provides a more global view of the operations taking place within the neural network.\n",
      "\n",
      "Query[5]: 5. How can you apply the function \\(f(x) = x^{2}\\) to a vector in a vectorized form?\n",
      "Answer: To apply the function \\(f(x) = x^{2}\\) to a vector in a vectorized form, you would apply the function to each component of the vector individually. For example, if you had a vector v = \\(\\begin{matrix} 2 \\\\ 3 \\end{matrix}\\), applying the function \\(f(x) = x^{2}\\) to this vector in a vectorized form would be as follows:\n",
      "\n",
      "\\[f \\left(\\begin{matrix} 2 \\\\ 3 \\end{matrix}\\right) = \\begin{matrix} f(2) \\\\ f(3) \\end{matrix} = \\begin{matrix} 4 \\\\ 9 \\end{matrix}\\]\n",
      "\n",
      "So, the vectorized form of f just squares every element of the vector.\n",
      "\n",
      "Query[6]: 6. How can Equation 2.1 be rewritten in a vectorized form?\n",
      "Answer: Equation 2.1 can be rewritten in a vectorized form as \\(a^{l} = \\sigma(w^{l} a^{l-1} + b^{l})\\). This equation represents how the activations in one layer relate to the activations in the previous layer: the weight matrix is applied to the activations, then the bias vector is added, and finally, the \\(\\sigma\\) function is applied. This approach is more global, succinct, and provides an efficient way of implementing matrix multiplication, vector addition, and vectorization with most matrix libraries.\n",
      "\n",
      "Query[7]: 7. What is the global way of thinking about how the activations in one layer relate to activations in the previous layer of a neural network?\n",
      "Answer: The global way of thinking about how the activations in one layer relate to activations in the previous layer of a neural network involves applying the weight matrix to the activations from the previous layer, adding the bias vector, and then applying the σ function. This approach provides a more succinct and comprehensive view of the process, which is often easier to understand and implement than a neuron-by-neuron perspective. This global view also allows for faster computations thanks to the use of matrix libraries that provide quick ways of implementing matrix multiplication, vector addition, and vectorization.\n",
      "\n",
      "Query[8]: 8. How is the \"weighted input\" \\(z^{l}\\) defined in the context of a neural network?\n",
      "Answer: The \"weighted input\" \\(z^{l}\\) in the context of a neural network is defined as the product of the weight matrix and the activation of the previous layer, plus the bias. This is represented in the equation \\(z^{l} = w^{l} a^{l-1} + b^{l}\\). It is called the \"weighted input\" because it represents the combined effect of the weights and activations from the previous layer, adjusted by the bias, before the activation function is applied. This weighted input \\(z^{l}\\) serves as the input to the activation function for the neurons in layer l.\n",
      "\n",
      "Query[9]: 9. How is Equation 2.3 sometimes written in terms of the weighted input?\n",
      "Answer: Equation 2.3 is sometimes written in terms of the weighted input as \\(a^{l}_{j} = \\sigma(z^{l}_{j})\\). Here, \\(z^{l}_{j}\\) is the weighted input to the activation function for neuron j in layer l.\n",
      "\n",
      "Query[10]: 10. What is the significance of the notation \\(z^{l}_{j}\\) in the context of a neural network?\n",
      "Answer: The notation \\(z^{l}_{j}\\) in the context of a neural network refers to the weighted input to the activation function for neuron j in layer l. It is computed as the dot product of the weights associated with the neuron and the activations from the previous layer, added to the bias. This weighted input plays a crucial role in the computation of the activation of the neuron and hence, the output of the neural network. The activation is computed by applying the activation function (such as the sigmoid function) to this weighted input. This notation helps in understanding the flow of computations in a neural network.\n",
      "\n",
      "Query[11]: 11. Why is the \\(w^{l}_{jk}\\) notation used instead of using j to index the input neuron and k to index the output neuron?\n",
      "Answer: The \\(w^{l}_{jk}\\) notation is used instead of using j to index the input neuron and k to index the output neuron to maintain the simplicity of the matrix-based approach. If j was used to index the input neuron and k to index the output neuron, the weight matrix in Equation 2.3 would need to be replaced by the transpose of the weight matrix. This would make the expression more complex and less intuitive, as it would not be as simple as \"applying the weight matrix to the activations\". So, to avoid this complication and maintain the easy simplicity, the \\(w^{l}_{jk}\\) notation is used.\n",
      "\n",
      "Query[12]: 12. Why is it beneficial to use matrix multiplication, vector addition, and vectorization in the context of neural networks?\n",
      "Answer: Matrix multiplication, vector addition, and vectorization are beneficial in the context of neural networks for several reasons:\n",
      "\n",
      "1. Efficiency: Matrix operations are computationally efficient and can be performed much faster than iterative loops, especially on modern hardware that is optimized for such operations. This is crucial when dealing with large-scale neural networks that have a large number of parameters.\n",
      "\n",
      "2. Conciseness: These operations provide a more succinct and concise way of expressing complex operations in neural networks. They simplify the notation, making the equations easier to understand and implement.\n",
      "\n",
      "3. Parallelization: Matrix operations can be easily parallelized, which can lead to significant speedups in the training and inference process of neural networks. This is particularly beneficial when using GPUs, which are designed to perform parallel computations.\n",
      "\n",
      "4. Library Support: Most programming languages have robust libraries (like NumPy in Python) that support matrix operations. These libraries have been optimized over many years, and using them can lead to more reliable and efficient code.\n",
      "\n",
      "5. Mathematical Convenience: Using matrix notation allows us to leverage linear algebra, which provides a powerful and flexible mathematical framework for manipulating and understanding the data and transformations within the network.\n",
      "\n",
      "Query[13]: 13. How does the expression \\(a^{l} = \\sigma(w^{l} a^{l-1} + b^{l})\\) help in understanding the behavior of a neural network?\n",
      "Answer: The expression \\(a^{l} = \\sigma(w^{l} a^{l-1} + b^{l})\\) provides a clear mathematical formulation of how a neural network operates. It illustrates that the activation of a neuron in layer \\(l\\) (represented by \\(a^{l}\\)) depends on the weighted sum of the activations in the previous layer (\\(a^{l-1}\\)), plus a bias term (\\(b^{l}\\)), passed through an activation function (\\(\\sigma\\)).\n",
      "\n",
      "This equation helps us understand the behavior of a neural network in a few ways:\n",
      "\n",
      "1. It encapsulates the fundamental operation of a neural network: taking inputs, applying weights, adding bias, and applying an activation function.\n",
      "2. It presents this operation in a matrix-based form, which allows us to apply these operations simultaneously to all neurons in a layer. This highlights the parallel nature of neural networks.\n",
      "3. It provides the basis for vectorization, which is a powerful technique used to speed up computations in neural networks. This is because matrix multiplication, vector addition, and applying an activation function can be done quickly and simultaneously on all elements of a vector with most matrix libraries.\n",
      "4. The equation explains how the data flows and is transformed from one layer to the next, hence revealing the network's architecture.\n",
      "5. It also explains why the weights and biases are essential parameters in the network, as they directly influence the output of each neuron. \n",
      "\n",
      "In summary, this equation provides a compact, global view of the operation of a neural network, helping us understand its behavior both conceptually and practically.\n",
      "\n",
      "Query[14]: 14. What is the importance of \\( z^{l-1} \\equiv w^{l} a^{l-1} + b^{l}\\) in the computation of \\(a^{l}\\)?\n",
      "Answer: The quantity \\( z^{l-1} \\equiv w^{l} a^{l-1} + b^{l}\\) is referred to as the weighted input to the neurons in layer l. This intermediate quantity plays a crucial role in the computation of \\(a^{l}\\). It represents the combined effect of the weights and activations from the previous layer, along with the bias, before the activation function is applied. It is significant because it encapsulates the input for the activation function for each neuron in layer l. This weighted input is then transformed by the activation function \\(\\sigma\\), which introduces non-linearity into the model, enabling the neural network to learn and model complex patterns. Furthermore, this weighted input \\( z^{l} \\) is also used later in the backpropagation algorithm for calculating the gradients.\n"
     ]
    }
   ],
   "source": [
    "import openai\n",
    "\n",
    "class StudentAssistant:\n",
    "    def __init__(self, model=\"gpt-4-0613\", result_length=500, with_prices=True):\n",
    "        self.model = model\n",
    "        self.with_prices = with_prices\n",
    "        self.result_length = result_length\n",
    "\n",
    "    def process(self, query: str, example_text: str):\n",
    "        # Construct conversational prompts\n",
    "        prompt = f\"{example_text}\\n\\nQuestion: {query}\\nAnswer:\"\n",
    "\n",
    "        # Generate responses using the Chat Completion interface\n",
    "        response = openai.ChatCompletion.create(\n",
    "            model=self.model,\n",
    "            messages=[\n",
    "                {\"role\": \"system\", \"content\": \"You are a helpful assistant.\"},\n",
    "                {\"role\": \"user\", \"content\": prompt}\n",
    "            ],\n",
    "            max_tokens=self.result_length,\n",
    "            temperature=0.7\n",
    "        )\n",
    "\n",
    "        # Extract responses\n",
    "        answer = response.choices[0].message['content'] if response.choices else \"No answer available.\"\n",
    "        return answer\n",
    "\n",
    "# the original text\n",
    "example_text = new_text\n",
    "\n",
    "# Split the generated question string into a separate list of questions\n",
    "generated_questions_list = generated_questions.split('\\n')\n",
    "\n",
    "# Remove empty strings\n",
    "generated_questions_list = [q for q in generated_questions_list if q]\n",
    "\n",
    "# test query\n",
    "queries = generated_questions_list\n",
    "student_assistant = StudentAssistant()\n",
    "all_ans = ''\n",
    "for i, query in enumerate(queries):\n",
    "    print(f\"\\nQuery[{i + 1}]: {query}\")\n",
    "    answer = student_assistant.process(query, example_text)\n",
    "    all_ans += answer\n",
    "    print(f\"Answer: {answer}\")"
   ]
  },
  {
   "cell_type": "markdown",
   "id": "9fcf2268",
   "metadata": {},
   "source": [
    "## similarity of answers"
   ]
  },
  {
   "cell_type": "code",
   "execution_count": 54,
   "id": "f30295c1",
   "metadata": {},
   "outputs": [
    {
     "name": "stdout",
     "output_type": "stream",
     "text": [
      "tensor([0.9036])\n"
     ]
    }
   ],
   "source": [
    "# Load pre-trained model and tokenizer\n",
    "tokenizer = BertTokenizer.from_pretrained('bert-base-uncased')\n",
    "model = BertModel.from_pretrained('bert-base-uncased')\n",
    "\n",
    "# prepare the text\n",
    "text3 = all_ans\n",
    "text4 = new_text\n",
    "\n",
    "texts = [text3, text4]\n",
    "\n",
    "# encode the text\n",
    "encoded_input = tokenizer(texts, padding=True, truncation=True, return_tensors='pt')\n",
    "with torch.no_grad():\n",
    "    model_output = model(**encoded_input)\n",
    "\n",
    "# Extract features from the embedding layer\n",
    "embeddings = model_output.last_hidden_state.mean(dim=1)\n",
    "\n",
    "# compute the similarity\n",
    "cosine_similarity_ans_GPT4 = torch.nn.functional.cosine_similarity(embeddings[0].unsqueeze(0), embeddings[1].unsqueeze(0))\n",
    "print(cosine_similarity_ans_GPT4)"
   ]
  },
  {
   "cell_type": "markdown",
   "id": "3b1e2200",
   "metadata": {},
   "source": [
    "## Generate questions and answers using GPT-3.5, and compute semantic relevance under the GPT-3.5 model"
   ]
  },
  {
   "cell_type": "markdown",
   "id": "9509da30",
   "metadata": {},
   "source": [
    "## Generate questions & calculate semantic relevance between text and questions"
   ]
  },
  {
   "cell_type": "code",
   "execution_count": 55,
   "id": "3e108563",
   "metadata": {
    "scrolled": false
   },
   "outputs": [
    {
     "name": "stdout",
     "output_type": "stream",
     "text": [
      "Generated Questions:\n",
      "So instead, we use k to index the input neuron, and j to index the output neuron.\n",
      "\n",
      "Exam Questions:\n",
      "\n",
      "1. What does the expression \\(\\sigma (v)\\) denote?\n",
      "2. What is the difference between the neuron-by-neuron view and the global view of computing the output from a neural network?\n",
      "3. What is the purpose of the bias vector \\(b^{l}\\)?\n",
      "4. What is the purpose of the weight matrix \\(w^{l}\\)?\n",
      "5. How does the vectorized form of f work?\n",
      "6. What is the notation used for the weighted input to the neurons in layer l?\n",
      "7. What is the effect of vectorizing a function such as \\(\\sigma\\)?\n",
      "8. How is Equation 2.1 rewritten in a matrix form?\n",
      "9. What do the components of the bias vector represent?\n",
      "10. What does the expression \\(a^{l-1}_{k}\\) denote?\n",
      "11. What does the expression \\(w^{l}_{jk}\\) denote?\n",
      "12. What does the expression \\(a^{l}_{j}\\) denote?\n",
      "13. What is the difference between the components of \\(a^{l}\\) and \\(b^{l}\\)?\n",
      "14. What is the purpose of the activation vector \\(a^{l}\\)?\n"
     ]
    }
   ],
   "source": [
    "class TeacherAssistantGPT3:\n",
    "    def __init__(self, model=\"text-davinci-003\", result_length=500):\n",
    "        self.model = model\n",
    "        self.result_length = result_length\n",
    "\n",
    "    def generate_questions(self, text, num_questions=14):\n",
    "        prompt = f\"Based on the following text, generate {num_questions} relevant exam questions:\\n\\n{text}\"\n",
    "        \n",
    "        response = openai.Completion.create(\n",
    "            model=self.model,\n",
    "            prompt=prompt,\n",
    "            max_tokens=self.result_length,\n",
    "            temperature=0.7\n",
    "        )\n",
    "        \n",
    "        questions = response.choices[0].text.strip() if response.choices else \"No questions available.\"\n",
    "        return questions\n",
    "\n",
    "# the original text\n",
    "example_text = new_text\n",
    "\n",
    "# test TeacherAssistant class\n",
    "teacher_assistant = TeacherAssistantGPT3()\n",
    "\n",
    "# generate the questions\n",
    "generated_questionsGPT3 = teacher_assistant.generate_questions(example_text)\n",
    "print(f\"Generated Questions:\\n{generated_questionsGPT3}\")"
   ]
  },
  {
   "cell_type": "code",
   "execution_count": 56,
   "id": "32fbcb90",
   "metadata": {},
   "outputs": [
    {
     "name": "stdout",
     "output_type": "stream",
     "text": [
      "tensor([0.8699])\n"
     ]
    }
   ],
   "source": [
    "# Load pre-trained model and tokenizer\n",
    "tokenizer = BertTokenizer.from_pretrained('bert-base-uncased')\n",
    "model = BertModel.from_pretrained('bert-base-uncased')\n",
    "\n",
    "# prepare the text\n",
    "question_by_GPT3 =generated_questionsGPT3\n",
    "\n",
    "text = new_text\n",
    "texts = [question_by_GPT3, text]\n",
    "\n",
    "# encode text\n",
    "encoded_input = tokenizer(texts, padding=True, truncation=True, return_tensors='pt')\n",
    "with torch.no_grad():\n",
    "    model_output = model(**encoded_input)\n",
    "\n",
    "# Extract features from the embedding layer\n",
    "embeddings = model_output.last_hidden_state.mean(dim=1)\n",
    "\n",
    "# compute similarity\n",
    "cosine_similarity_ques_GPT3 = torch.nn.functional.cosine_similarity(embeddings[0].unsqueeze(0), embeddings[1].unsqueeze(0))\n",
    "print(cosine_similarity_ques_GPT3)"
   ]
  },
  {
   "cell_type": "markdown",
   "id": "b6dfcac7",
   "metadata": {},
   "source": [
    "## Generate answers & calculate semantic relevance between text and answers"
   ]
  },
  {
   "cell_type": "code",
   "execution_count": 57,
   "id": "02a034a1",
   "metadata": {
    "scrolled": true
   },
   "outputs": [
    {
     "name": "stdout",
     "output_type": "stream",
     "text": [
      "\n",
      "Query[1]: So instead, we use k to index the input neuron, and j to index the output neuron.\n",
      "Answer: This allows us to use the weight matrix directly in Equation 2.3 without needing to take the transpose, and also makes it easier to think of the weight matrix as connecting input neurons to output neurons.\n",
      "\n",
      "Query[2]: Exam Questions:\n",
      "Answer: 1. What is the formula for computing the output from a neural network?\n",
      "Answer: The formula is \\(j = \\sigma \\left(\\sum_{k} w^{l}_{jk} a^{l-1}_{k} + b^{l}_{j}\\right)\\)\n",
      "\n",
      "2. What is the vectorized form of this equation?\n",
      "Answer: The vectorized form of the equation is \\(a^{l} = \\sigma(w^{l} a^{l-1} + b^{l})\\)\n",
      "\n",
      "Query[3]: 1. What does the expression \\(\\sigma (v)\\) denote?\n",
      "Answer: The expression \\(\\sigma (v)\\) denotes the element-wise application of a function to a vector, such that the components of \\(\\sigma(v)\\) are just \\(\\sigma(v)_{j} = \\sigma(v_{j})\\).\n",
      "\n",
      "Query[4]: 2. What is the difference between the neuron-by-neuron view and the global view of computing the output from a neural network?\n",
      "Answer: The neuron-by-neuron view involves computing the output from a neural network one neuron at a time, while the global view involves computing the output from a neural network by applying the weight matrix to the activations, adding the bias vector, and then applying the sigma function. The global view is often simpler and more succinct, and is also more efficient in terms of computation time.\n",
      "\n",
      "Query[5]: 3. What is the purpose of the bias vector \\(b^{l}\\)?\n",
      "Answer: The purpose of the bias vector \\(b^{l}\\) is to add a shift to the weighted input \\(z^{l}\\). This shift can be used to adjust the output of the neural network.\n",
      "\n",
      "Query[6]: 4. What is the purpose of the weight matrix \\(w^{l}\\)?\n",
      "Answer: The purpose of the weight matrix \\(w^{l}\\) is to connect the neurons in the (l-1)-th layer to the neurons in the l-th layer. It contains the weights of the connections between these two layers of neurons.\n",
      "\n",
      "Query[7]: 5. How does the vectorized form of f work?\n",
      "Answer: The vectorized form of f works by applying a function such as σ to every element in a vector v. We use the notation σ(v) to denote this kind of elementwise application of a function. That is, the components of σ(v) are just σ(v)j = σ(vj). As an example, if we have the function f(x) = x2 then the vectorized form of f has the effect of squaring every element of the vector.\n",
      "\n",
      "Query[8]: 6. What is the notation used for the weighted input to the neurons in layer l?\n",
      "Answer: The notation used for the weighted input to the neurons in layer l is \\(z^{l}\\).\n",
      "\n",
      "Query[9]: 7. What is the effect of vectorizing a function such as \\(\\sigma\\)?\n",
      "Answer: Vectorizing a function such as \\(\\sigma\\) has the effect of applying the function to every element in a vector v. The components of \\(\\sigma(v)\\) are just \\(\\sigma(v)_{j} = \\sigma(v_{j})\\).\n",
      "\n",
      "Query[10]: 8. How is Equation 2.1 rewritten in a matrix form?\n",
      "Answer: Equation 2.1 is rewritten in a matrix form as: \n",
      "\\[a^{l} = \\sigma(w^{l} a^{l-1} + b^{l})\\]\n",
      "\n",
      "Query[11]: 9. What do the components of the bias vector represent?\n",
      "Answer: The components of the bias vector represent the values \\(b^{l}_{j}\\), one component for each neuron in the l-th layer.\n",
      "\n",
      "Query[12]: 10. What does the expression \\(a^{l-1}_{k}\\) denote?\n",
      "Answer: \\(a^{l-1}_{k}\\) denotes the activation of the k-th neuron in the (l-1)-th layer.\n",
      "\n",
      "Query[13]: 11. What does the expression \\(w^{l}_{jk}\\) denote?\n",
      "Answer: The expression \\(w^{l}_{jk}\\) denotes the weight connecting the j-th neuron in the (l-1)-th layer to the k-th neuron in the l-th layer.\n",
      "\n",
      "Query[14]: 12. What does the expression \\(a^{l}_{j}\\) denote?\n",
      "Answer: \\(a^{l}_{j}\\) denotes the activation of neuron j in layer l.\n",
      "\n",
      "Query[15]: 13. What is the difference between the components of \\(a^{l}\\) and \\(b^{l}\\)?\n",
      "Answer: The components of \\(a^{l}\\) are the activations \\(a^{l}_{j}\\), whereas the components of \\(b^{l}\\) are the values \\(b^{l}_{j}\\).\n",
      "\n",
      "Query[16]: 14. What is the purpose of the activation vector \\(a^{l}\\)?\n",
      "Answer: The activation vector \\(a^{l}\\) is used to compute the output from a neural network. Its components are the activations \\(a^{l}_{j}\\) for each neuron in the l-th layer.\n"
     ]
    }
   ],
   "source": [
    "import openai\n",
    "\n",
    "class StudentAssistantGPT3:\n",
    "    def __init__(self, model=\"text-davinci-003\", result_length=500, with_prices=True):\n",
    "        self.model = model\n",
    "        self.result_length = result_length\n",
    "\n",
    "    def process(self, query: str, example_text: str):\n",
    "        # Construct conversational prompts\n",
    "        prompt = f\"{example_text}\\n\\nQuestion: {query}\\nAnswer:\"\n",
    "\n",
    "        # Generate responses using the Completion interface\n",
    "        response = openai.Completion.create(\n",
    "            model=self.model,\n",
    "            prompt=prompt,\n",
    "            max_tokens=self.result_length,\n",
    "            temperature=0.7\n",
    "        )\n",
    "\n",
    "        # Extract responses\n",
    "        answer = response.choices[0].text.strip() if response.choices else \"No answer available.\"\n",
    "\n",
    "        return answer\n",
    "\n",
    "example_text = new_text\n",
    "\n",
    "# Split the generated question string into a separate list of questions\n",
    "generated_questions_list = generated_questionsGPT3.split('\\n')\n",
    "\n",
    "# Remove empty strings\n",
    "generated_questions_list = [q for q in generated_questions_list if q]\n",
    "\n",
    "# test query\n",
    "queries = generated_questions_list\n",
    "student_assistant = StudentAssistantGPT3()\n",
    "all_ansGPT3 = ''\n",
    "for i, query in enumerate(queries):\n",
    "    print(f\"\\nQuery[{i + 1}]: {query}\")\n",
    "    answer = student_assistant.process(query, example_text)\n",
    "    all_ansGPT3 += answer\n",
    "    print(f\"Answer: {answer}\")"
   ]
  },
  {
   "cell_type": "code",
   "execution_count": 58,
   "id": "05722b63",
   "metadata": {},
   "outputs": [
    {
     "name": "stdout",
     "output_type": "stream",
     "text": [
      "tensor([0.9752])\n"
     ]
    }
   ],
   "source": [
    "# Load pre-trained model and tokenizer\n",
    "tokenizer = BertTokenizer.from_pretrained('bert-base-uncased')\n",
    "model = BertModel.from_pretrained('bert-base-uncased')\n",
    "\n",
    "# prepare the text\n",
    "ansGPT3 = all_ansGPT3\n",
    "text = new_text\n",
    "\n",
    "texts = [new_text, ansGPT3]\n",
    "\n",
    "# encode text\n",
    "encoded_input = tokenizer(texts, padding=True, truncation=True, return_tensors='pt')\n",
    "with torch.no_grad():\n",
    "    model_output = model(**encoded_input)\n",
    "\n",
    "# Extract features from the embedding layer\n",
    "embeddings = model_output.last_hidden_state.mean(dim=1)\n",
    "\n",
    "# compute similarity\n",
    "cosine_similarity_ans_GPT3 = torch.nn.functional.cosine_similarity(embeddings[0].unsqueeze(0), embeddings[1].unsqueeze(0))\n",
    "print(cosine_similarity_ans_GPT3)"
   ]
  },
  {
   "cell_type": "markdown",
   "id": "1503dd3f",
   "metadata": {},
   "source": [
    "## The chart of comparison"
   ]
  },
  {
   "cell_type": "code",
   "execution_count": 59,
   "id": "b1239a60",
   "metadata": {
    "scrolled": false
   },
   "outputs": [
    {
     "data": {
      "image/png": "[encoded data removed]",
      "text/plain": [
       "<Figure size 1000x800 with 1 Axes>"
      ]
     },
     "metadata": {},
     "output_type": "display_data"
    }
   ],
   "source": [
    "import matplotlib.pyplot as plt\n",
    "import numpy as np\n",
    "import torch\n",
    "import os\n",
    "os.environ['KMP_DUPLICATE_LIB_OK']='True' \n",
    "\n",
    "# data\n",
    "ans_tensor_GPT4 = cosine_similarity_ans_GPT4[0].item()\n",
    "ans_tensor_GPT3 = cosine_similarity_ans_GPT3[0].item()\n",
    "ques_tensor_GPT4 = cosine_similarity_ques_GPT4[0].item()\n",
    "ques_tensor_GPT3 = cosine_similarity_ques_GPT3[0].item()\n",
    "\n",
    "group_te = [ques_tensor_GPT3, ans_tensor_GPT3]\n",
    "group_stu = [ques_tensor_GPT4, ans_tensor_GPT4]\n",
    "\n",
    "labels = ['The Comparison of TeacherAssistant System', 'The Comparison of StudentAssistant System']\n",
    "\n",
    "# Set the position of the bar chart\n",
    "x = np.arange(len(labels)) * 0.6  # the position of label\n",
    "width = 0.2  # width of chart\n",
    "\n",
    "# Create a bar chart\n",
    "fig, ax = plt.subplots(figsize=(10,8))\n",
    "rects_te = ax.bar(x + width/2, group_te, width, label='Content generated by GPT-3.5')\n",
    "rects_stu = ax.bar(x - width/2, group_stu, width, label='Content generated by GPT-4')\n",
    "for rect in rects_te + rects_stu:\n",
    "    height = rect.get_height()\n",
    "    ax.text(rect.get_x() + rect.get_width() / 2., 1.01*height, f'{height:.2f}', ha='center', va='bottom')\n",
    "\n",
    "# Add titles and labels\n",
    "ax.set_ylabel('Similarity')\n",
    "ax.set_title('Comparison of the similarity between different models')\n",
    "ax.set_xticks(x)\n",
    "ax.set_xticklabels(labels)\n",
    "ax.legend(fontsize=8, loc='lower right')\n",
    "plt.show()"
   ]
  },
  {
   "cell_type": "code",
   "execution_count": null,
   "id": "5eb35b6d",
   "metadata": {},
   "outputs": [],
   "source": []
  },
  {
   "cell_type": "markdown",
   "id": "bec4a006",
   "metadata": {},
   "source": [
    "## We choose another page with many formulas to test our system"
   ]
  },
  {
   "cell_type": "code",
   "execution_count": 60,
   "id": "fe5cb057",
   "metadata": {},
   "outputs": [],
   "source": [
    "pdf_path = r'D:\\manyformula.pdf'\n",
    "text = extract_text_from_pdf_with_pdfminer(pdf_path)\n",
    "\n",
    "output_txt_path = r'D:\\manyformula.txt'\n",
    "save_text_to_file(text, output_txt_path)"
   ]
  },
  {
   "cell_type": "code",
   "execution_count": 61,
   "id": "efc7c225",
   "metadata": {
    "scrolled": true
   },
   "outputs": [
    {
     "name": "stdout",
     "output_type": "stream",
     "text": [
      "\n",
      "Query: Based on the content of example_text, please identify all the formulas and change them into latex format. Then show me the new content.\n",
      "New_Text: The content with formulas in latex format is as follows:\n",
      "\n",
      "We’ll now prove the four fundamental equations (BP1)–(BP4). All four are consequences of the chain rule from multivariable calculus. If you’re comfortable with the chain rule, then I strongly encourage you to attempt the derivation yourself before reading on.\n",
      "\n",
      "Let’s begin with Equation (BP1), which gives an expression for the output error, $\\delta^l_j$. To prove this equation, recall that by definition\n",
      "\n",
      "$\\delta^L_j = \\frac{\\partial C}{\\partial z^L_j}$ (2.14)\n",
      "\n",
      "Applying the chain rule, we can re-express the partial derivative above in terms of partial derivatives with respect to the output activations,\n",
      "\n",
      "$\\delta^L_j = \\sum_k \\frac{\\partial C}{\\partial a^L_k} \\frac{\\partial a^L_k}{\\partial z^L_j}$ (2.15)\n",
      "\n",
      "where the sum is over all neurons k in the output layer. Of course, the output activation $a^L_k$ of the k-th neuron depends only on the weighted input $z^L_j$ for the j-th neuron when k = j. And so $\\frac{\\partial a^L_k}{\\partial z^L_j}$ vanishes when k ≠ j. As a result we can simplify the previous equation to\n",
      "\n",
      "$\\delta^L_j = \\frac{\\partial C}{\\partial a^L_j} \\frac{\\partial a^L_j}{\\partial z^L_j}$\n",
      "\n",
      "Recalling that $a^L_j = \\sigma(z^L_j)$ the second term on the right can be written as $\\sigma'(z^L_j)$, and the equation becomes\n",
      "\n",
      "$\\delta^L_j = \\frac{\\partial C}{\\partial a^L_j} \\sigma'(z^L_j)$ (2.16)\n",
      "\n",
      "which is just (BP1), in component form. Next, we’ll prove (BP2), which gives an equation for the error $\\delta^l_j$ in terms of the error in the next layer, $\\delta^{l+1}_j$. To do this, we want to rewrite $\\delta^l_j = \\frac{\\partial C}{\\partial z^l_j}$ in terms of $\\delta^{l+1}_k = \\frac{\\partial C}{\\partial z^{l+1}_k}$\n",
      "\n",
      "$\\delta^l_j = \\frac{\\partial C}{\\partial z^l_j} = \\sum_k \\frac{\\partial C}{\\partial z^{l+1}_k} \\frac{\\partial z^{l+1}_k}{\\partial z^l_j} = \\sum_k \\delta^{l+1}_k \\frac{\\partial z^{l+1}_k}{\\partial z^l_j}$ (2.18)\n",
      "\n",
      "where in the last line we have interchanged the two terms on the right-hand side, and substituted the definition of $\\delta^{l+1}_k$.\n",
      "\n",
      "To evaluate the first term on the last line, note that $z^{l+1}_k = \\sum_j w^{l+1}_{kj} a^l_j + b^{l+1}_k$\n",
      "\n",
      "Differentiating, we obtain $\\frac{\\partial z^{l+1}_k}{\\partial z^l_j} = w^{l+1}_{kj} \\sigma'(z^l_j)$ (2.20)\n"
     ]
    }
   ],
   "source": [
    "# the path of txt file\n",
    "txt_file_path = 'D:\\manyformula.txt'\n",
    "example_text_formula = read_text_from_file(txt_file_path)\n",
    "\n",
    "# text the query\n",
    "query = \"Based on the content of example_text, please identify all the formulas and change them into latex format. Then show me the new content.\"\n",
    "txt_recognizer = TxtRecognizer()\n",
    "\n",
    "print(f\"\\nQuery: {query}\")\n",
    "new_text_formula = txt_recognizer.process(query, example_text_formula)\n",
    "print(f\"New_Text: {new_text_formula}\")"
   ]
  },
  {
   "cell_type": "markdown",
   "id": "3b64cffa",
   "metadata": {},
   "source": [
    "## Generated questions and answers by GPT-4 model"
   ]
  },
  {
   "cell_type": "code",
   "execution_count": 71,
   "id": "fb681089",
   "metadata": {
    "scrolled": false
   },
   "outputs": [
    {
     "name": "stdout",
     "output_type": "stream",
     "text": [
      "Generated Questions:\n",
      "1. What are the four fundamental equations (BP1)–(BP4) that we are trying to prove?\n",
      "2. How does the chain rule from multivariable calculus apply to these equations?\n",
      "3. What is the expression for the output error, $\\delta^l_j$, given by Equation (BP1)?\n",
      "4. How is the chain rule used to re-express the partial derivative $\\frac{\\partial C}{\\partial z^L_j}$?\n",
      "5. Explain the terms of the equation $\\delta^L_j = \\sum_k \\frac{\\partial C}{\\partial a^L_k} \\frac{\\partial a^L_k}{\\partial z^L_j}$.\n",
      "6. How does the output activation $a^L_k$ of the k-th neuron depend on the weighted input $z^L_j$ for the j-th neuron?\n",
      "7. Why does $\\frac{\\partial a^L_k}{\\partial z^L_j}$ vanish when k ≠ j?\n",
      "8. What does the equation $\\delta^L_j = \\frac{\\partial C}{\\partial a^L_j} \\sigma'(z^L_j)$ represent?\n",
      "9. What is the aim of proving (BP2)?\n",
      "10. How can we rewrite $\\delta^l_j = \\frac{\\partial C}{\\partial z^l_j}$ in terms of $\\delta^{l+1}_k = \\frac{\\partial C}{\\partial z^{l+1}_k}$?\n",
      "11. How can we get from $\\delta^l_j = \\frac{\\partial C}{\\partial z^l_j}$ to $\\delta^l_j = \\sum_k \\delta^{l+1}_k \\frac{\\partial z^{l+1}_k}{\\partial z^l_j}$?\n",
      "12. Why is it valid to interchange the two terms on the right-hand side of the equation and substitute the definition of $\\delta^{l+1}_k$?\n",
      "13. How is $z^{l+1}_k = \\sum_j w^{l+1}_{kj} a^l_j + b^{l+1}_k$ obtained?\n",
      "14. What is the result of differentiating $z^{l+1}_k = \\sum_j w^{l+1}_{kj} a^l_j + b^{l+1}_k$?\n"
     ]
    }
   ],
   "source": [
    "# the original text\n",
    "example_text_formula = new_text_formula\n",
    "\n",
    "# test TeacherAssistant class\n",
    "teacher_assistant_formula = TeacherAssistant()\n",
    "\n",
    "# generate the questions\n",
    "generated_questions_formula = teacher_assistant_formula.generate_questions(example_text_formula)\n",
    "print(f\"Generated Questions:\\n{generated_questions_formula}\")"
   ]
  },
  {
   "cell_type": "code",
   "execution_count": 72,
   "id": "482e8f28",
   "metadata": {
    "scrolled": true
   },
   "outputs": [
    {
     "name": "stdout",
     "output_type": "stream",
     "text": [
      "\n",
      "Query[1]: 1. What are the four fundamental equations (BP1)–(BP4) that we are trying to prove?\n",
      "Answer: The text does not provide specific details on the four fundamental equations (BP1)–(BP4) that are being proven. The context suggests they are related to backpropagation in neural networks and involve the application of the chain rule from multivariable calculus. Two of the equations are referenced during the discussion: (BP1) seems to concern the expression for the output error, $\\delta^l_j$, and (BP2) appears to be about the equation for the error $\\delta^l_j$ in terms of the error in the next layer, $\\delta^{l+1}_j$. However, the actual forms of equations (BP3) and (BP4) are not provided in the given text.\n",
      "\n",
      "Query[2]: 2. How does the chain rule from multivariable calculus apply to these equations?\n",
      "Answer: The chain rule from multivariable calculus is applied throughout these equations in order to derive new formulas or to simplify existing ones. \n",
      "\n",
      "1. In equation (2.14), the chain rule is applied to express the partial derivative of the cost function C with respect to the weighted input $z^L_j$.\n",
      "\n",
      "2. In equation (2.15), the chain rule is used again to re-express the original partial derivative in terms of partial derivatives with respect to the output activations. This is done by breaking down the original derivative into two steps: first finding how C changes with $a^L_k$, and then finding how $a^L_k$ changes with $z^L_j$.\n",
      "\n",
      "3. In the derivation of $\\delta^L_j = \\frac{\\partial C}{\\partial a^L_j} \\sigma'(z^L_j)$, the chain rule is used to differentiate the activation function $\\sigma(z^L_j)$, which is a function of $z^L_j$.\n",
      "\n",
      "4. In equation (2.18), the chain rule is used to break down the derivative of the cost function with respect to $z^l_j$ into the sum of the products of the derivative of the cost function with respect to $z^{l+1}_k$ and the derivative of $z^{l+1}_k$ with respect to $z^l_j$.\n",
      "\n",
      "5. Finally, the chain rule is used again to differentiate $z^{l+1}_k$ with respect to $z^l_j$ to obtain equation (2.20). \n",
      "\n",
      "In summary, the chain rule is a fundamental tool in these derivations, allowing the manipulation and simplification of complex derivatives into more manageable terms.\n",
      "\n",
      "Query[3]: 3. What is the expression for the output error, $\\delta^l_j$, given by Equation (BP1)?\n",
      "Answer: The expression for the output error, $\\delta^l_j$, given by Equation (BP1) is $\\delta^L_j = \\frac{\\partial C}{\\partial a^L_j} \\sigma'(z^L_j)$ (2.16).\n",
      "\n",
      "Query[4]: 4. How is the chain rule used to re-express the partial derivative $\\frac{\\partial C}{\\partial z^L_j}$?\n",
      "Answer: The chain rule is used to re-express the partial derivative $\\frac{\\partial C}{\\partial z^L_j}$ in terms of partial derivatives with respect to the output activations. This is done by applying the chain rule to the derivative of the cost function with respect to $z^L_j$, resulting in the equation \n",
      "\n",
      "$\\delta^L_j = \\sum_k \\frac{\\partial C}{\\partial a^L_k} \\frac{\\partial a^L_k}{\\partial z^L_j}$ \n",
      "\n",
      "where the sum is over all neurons k in the output layer. Here, the chain rule allows us to break down the derivative of the cost function with respect to $z^L_j$ into the sum of the products of the derivatives of the cost function with respect to the activation of each neuron k and the derivative of the activation of each neuron k with respect to $z^L_j$.\n",
      "\n",
      "Query[5]: 5. Explain the terms of the equation $\\delta^L_j = \\sum_k \\frac{\\partial C}{\\partial a^L_k} \\frac{\\partial a^L_k}{\\partial z^L_j}$.\n",
      "Answer: In the equation $\\delta^L_j = \\sum_k \\frac{\\partial C}{\\partial a^L_k} \\frac{\\partial a^L_k}{\\partial z^L_j}$, the terms are as follows:\n",
      "\n",
      "- $\\delta^L_j$: This term represents the output error for the j-th neuron in the L-th layer. It is the partial derivative of the cost function with respect to the weighted input $z^L_j$ to the j-th neuron in the L-th layer.\n",
      "\n",
      "- $\\frac{\\partial C}{\\partial a^L_k}$: This term is the partial derivative of the cost function C with respect to the activation $a^L_k$ of the k-th neuron in the L-th (output) layer. It represents how much the cost function changes with a slight change in the activation of the k-th neuron in the L-th layer.\n",
      "\n",
      "- $\\frac{\\partial a^L_k}{\\partial z^L_j}$: This term is the partial derivative of the activation $a^L_k$ of the k-th neuron in the L-th layer with respect to the weighted input $z^L_j$ to the j-th neuron in the same layer. It shows how much the activation of the k-th neuron changes with a slight change in the weighted input to the j-th neuron.\n",
      "\n",
      "- $\\sum_k$: This is a summation over all neurons k in the output layer. Each term in the sum contributes to the overall output error $\\delta^L_j$ for the j-th neuron.\n",
      "\n",
      "In essence, the equation is applying the chain rule to express the output error $\\delta^L_j$ in terms of the partial derivatives of the cost function and the activations with respect to the weighted inputs.\n",
      "\n",
      "Query[6]: 6. How does the output activation $a^L_k$ of the k-th neuron depend on the weighted input $z^L_j$ for the j-th neuron?\n",
      "Answer: The output activation $a^L_k$ of the k-th neuron depends on the weighted input $z^L_j$ for the j-th neuron only when k equals j. In this case, the output activation is defined as $a^L_j = \\sigma(z^L_j)$, where $\\sigma$ is the activation function. If k is not equal to j, then the partial derivative $\\frac{\\partial a^L_k}{\\partial z^L_j}$ vanishes, indicating no dependence.\n",
      "\n",
      "Query[7]: 7. Why does $\\frac{\\partial a^L_k}{\\partial z^L_j}$ vanish when k ≠ j?\n",
      "Answer: The term $\\frac{\\partial a^L_k}{\\partial z^L_j}$ vanishes when k ≠ j because the output activation $a^L_k$ of the k-th neuron only depends on the weighted input $z^L_j$ for the j-th neuron when k = j. In other words, the activation of a neuron is independent of the inputs to other neurons. Therefore, when k ≠ j, changing $z^L_j$ will not affect $a^L_k$, making the derivative zero.\n",
      "\n",
      "Query[8]: 8. What does the equation $\\delta^L_j = \\frac{\\partial C}{\\partial a^L_j} \\sigma'(z^L_j)$ represent?\n",
      "Answer: The equation $\\delta^L_j = \\frac{\\partial C}{\\partial a^L_j} \\sigma'(z^L_j)$ represents the output error of the jth neuron in the Lth layer of a neural network. The output error is calculated as the product of the derivative of the cost function with respect to the activation of the jth neuron and the derivative of the sigmoid function applied to the weighted input of the jth neuron. This is also referred to as the backpropagation equation (BP1), which is used to compute the error terms during the training of neural networks.\n",
      "\n",
      "Query[9]: 9. What is the aim of proving (BP2)?\n",
      "Answer: The aim of proving (BP2) is to establish an equation for the error in a given layer in terms of the error in the next layer. This is crucial for the process of backpropagation in neural networks, where errors are propagated backwards from the output layer to the input layer, allowing the model to adjust the weights and biases to minimize the error for future predictions.\n",
      "\n",
      "Query[10]: 10. How can we rewrite $\\delta^l_j = \\frac{\\partial C}{\\partial z^l_j}$ in terms of $\\delta^{l+1}_k = \\frac{\\partial C}{\\partial z^{l+1}_k}$?\n",
      "Answer: We can rewrite $\\delta^l_j = \\frac{\\partial C}{\\partial z^l_j}$ in terms of $\\delta^{l+1}_k = \\frac{\\partial C}{\\partial z^{l+1}_k}$ by using the chain rule as follows:\n",
      "\n",
      "$\\delta^l_j = \\frac{\\partial C}{\\partial z^l_j} = \\sum_k \\frac{\\partial C}{\\partial z^{l+1}_k} \\frac{\\partial z^{l+1}_k}{\\partial z^l_j} = \\sum_k \\delta^{l+1}_k \\frac{\\partial z^{l+1}_k}{\\partial z^l_j}$ \n",
      "\n",
      "This equation sums over all neurons k in the next layer (l+1). The term $\\frac{\\partial z^{l+1}_k}{\\partial z^l_j}$ can be further evaluated as $w^{l+1}_{kj} \\sigma'(z^l_j)$ which is the weight of the connection from the j-th neuron in the l-th layer to the k-th neuron in the (l+1)-th layer times the derivative of the activation function evaluated at the weighted input to the j-th neuron in the l-th layer. This gives us a new perspective on the error $\\delta^l_j$ in terms of the error in the next layer $\\delta^{l+1}_k$.\n",
      "\n",
      "Query[11]: 11. How can we get from $\\delta^l_j = \\frac{\\partial C}{\\partial z^l_j}$ to $\\delta^l_j = \\sum_k \\delta^{l+1}_k \\frac{\\partial z^{l+1}_k}{\\partial z^l_j}$?\n",
      "Answer: We get from $\\delta^l_j = \\frac{\\partial C}{\\partial z^l_j}$ to $\\delta^l_j = \\sum_k \\delta^{l+1}_k \\frac{\\partial z^{l+1}_k}{\\partial z^l_j}$ by applying the chain rule of calculus.\n",
      "\n",
      "The chain rule allows us to express the derivative of a function with respect to one variable in terms of the derivative of that function with respect to another variable. In this case, we express the derivative of the cost function C with respect to the weighted input $z^l_j$ of the j-th neuron in layer l, as a sum over all neurons k in the next layer (l+1), of the product of the derivative of the cost function with respect to the weighted input $z^{l+1}_k$ of the k-th neuron in layer (l+1), and the derivative of the weighted input $z^{l+1}_k$ with respect to the weighted input $z^l_j$ of the j-th neuron in layer l.\n",
      "\n",
      "This is done by the following steps:\n",
      "\n",
      "1. We start with $\\delta^l_j = \\frac{\\partial C}{\\partial z^l_j}$.\n",
      "\n",
      "2. Then, we apply the chain rule to express this derivative as a sum over all neurons k in the next layer (l+1) of the product of the derivative of C with respect to $z^{l+1}_k$ and the derivative of $z^{l+1}_k$ with respect to $z^l_j$: $\\delta^l_j = \\sum_k \\frac{\\partial C}{\\partial z^{l+1}_k} \\frac{\\partial z^{l+1}_k}{\\partial z^l_j}$.\n",
      "\n",
      "3. Finally, we substitute the definition of $\\delta^{l+1}_k$ into the sum to get $\\delta^l_j = \\sum_k \\delta^{l+1}_k \\frac{\\partial z^{l+1}_k}{\\partial z^l_j}$.\n",
      "\n",
      "Query[12]: 12. Why is it valid to interchange the two terms on the right-hand side of the equation and substitute the definition of $\\delta^{l+1}_k$?\n",
      "Answer: It is valid to interchange the two terms on the right-hand side of the equation and substitute the definition of $\\delta^{l+1}_k$ because of the property of multiplication in calculus. In calculus, the order of multiplication does not change the result (commutative property of multiplication). Therefore, we can interchange the terms without changing the value of the expression. As for the substitution of the definition of $\\delta^{l+1}_k$, it is valid because it's a direct application of the definition of $\\delta^{l+1}_k$. This is a basic principle in calculus where you can substitute equivalent expressions to simplify calculations or proofs.\n",
      "\n",
      "Query[13]: 13. How is $z^{l+1}_k = \\sum_j w^{l+1}_{kj} a^l_j + b^{l+1}_k$ obtained?\n",
      "Answer: The equation $z^{l+1}_k = \\sum_j w^{l+1}_{kj} a^l_j + b^{l+1}_k$ is derived from the basic structure of a neural network. In a neural network, each neuron in one layer is connected to every neuron in the next layer. The value of a neuron in the next layer ($z^{l+1}_k$) is calculated by summing the products of the weights ($w^{l+1}_{kj}$) and the activations ($a^l_j$) of all neurons in the current layer, and then adding a bias ($b^{l+1}_k$). \n",
      "\n",
      "In other words, the activation of the k-th neuron in the (l+1)-th layer is calculated by summing over all j neurons in the l-th layer, the product of the weight connecting the j-th neuron in the l-th layer to the k-th neuron in the (l+1)-th layer and the activation of the j-th neuron in the l-th layer, and then adding the bias of the k-th neuron in the (l+1)-th layer. This reflects the fact that each neuron's output is a weighted sum of its inputs plus a bias term.\n",
      "\n",
      "Query[14]: 14. What is the result of differentiating $z^{l+1}_k = \\sum_j w^{l+1}_{kj} a^l_j + b^{l+1}_k$?\n",
      "Answer: The result of differentiating $z^{l+1}_k = \\sum_j w^{l+1}_{kj} a^l_j + b^{l+1}_k$ is $\\frac{\\partial z^{l+1}_k}{\\partial z^l_j} = w^{l+1}_{kj} \\sigma'(z^l_j)$ (2.20).\n"
     ]
    }
   ],
   "source": [
    "# the original text\n",
    "example_text_formula = new_text_formula\n",
    "\n",
    "# Split the generated question string into a separate list of questions\n",
    "generated_questions_list_formula = generated_questions_formula.split('\\n')\n",
    "\n",
    "# Remove empty strings\n",
    "generated_questions_list_formula = [q for q in generated_questions_list_formula if q]\n",
    "\n",
    "# test query\n",
    "queries_formula = generated_questions_list_formula\n",
    "student_assistant_formula = StudentAssistant()\n",
    "all_ans_formula = ''\n",
    "for i, query in enumerate(queries_formula):\n",
    "    print(f\"\\nQuery[{i + 1}]: {query}\")\n",
    "    answer_formula = student_assistant_formula.process(query, example_text_formula)\n",
    "    all_ans_formula += answer_formula\n",
    "    print(f\"Answer: {answer_formula}\")"
   ]
  },
  {
   "cell_type": "markdown",
   "id": "426ac018",
   "metadata": {},
   "source": [
    "## Calculate the similarity of questions and answers"
   ]
  },
  {
   "cell_type": "code",
   "execution_count": 73,
   "id": "4ef86b40",
   "metadata": {},
   "outputs": [
    {
     "name": "stdout",
     "output_type": "stream",
     "text": [
      "tensor([0.9707])\n"
     ]
    }
   ],
   "source": [
    "# Check the relativity between the text generated by GPT-4-0613 and original textbook content\n",
    "# Load pre-trained model and tokenizer\n",
    "tokenizer = BertTokenizer.from_pretrained('bert-base-uncased')\n",
    "model = BertModel.from_pretrained('bert-base-uncased')\n",
    "\n",
    "# prepare text\n",
    "question_by_GPT4_formula =generated_questions_formula\n",
    "\n",
    "question_from_text_formula = new_text_formula\n",
    "texts_formula = [question_from_text_formula, question_by_GPT4_formula]\n",
    "\n",
    "# encode text\n",
    "encoded_input = tokenizer(texts_formula, padding=True, truncation=True, return_tensors='pt')\n",
    "with torch.no_grad():\n",
    "    model_output = model(**encoded_input)\n",
    "\n",
    "# Extract features from the embedding layer\n",
    "embeddings = model_output.last_hidden_state.mean(dim=1)\n",
    "\n",
    "# compute the similarity\n",
    "cosine_similarity_ques_GPT4_formula = torch.nn.functional.cosine_similarity(embeddings[0].unsqueeze(0), embeddings[1].unsqueeze(0))\n",
    "print(cosine_similarity_ques_GPT4_formula)"
   ]
  },
  {
   "cell_type": "code",
   "execution_count": 74,
   "id": "c3525acb",
   "metadata": {},
   "outputs": [
    {
     "name": "stdout",
     "output_type": "stream",
     "text": [
      "tensor([0.9627])\n"
     ]
    }
   ],
   "source": [
    "# Load pre-trained model and tokenizer\n",
    "tokenizer = BertTokenizer.from_pretrained('bert-base-uncased')\n",
    "model = BertModel.from_pretrained('bert-base-uncased')\n",
    "\n",
    "# prepare the text\n",
    "texts_formula = [all_ans_formula, new_text_formula]\n",
    "\n",
    "# encode the text\n",
    "encoded_input = tokenizer(texts_formula, padding=True, truncation=True, return_tensors='pt')\n",
    "with torch.no_grad():\n",
    "    model_output = model(**encoded_input)\n",
    "\n",
    "# Extract features from the embedding layer\n",
    "embeddings = model_output.last_hidden_state.mean(dim=1)\n",
    "\n",
    "# compute the similarity\n",
    "cosine_similarity_ans_GPT4_formula = torch.nn.functional.cosine_similarity(embeddings[0].unsqueeze(0), embeddings[1].unsqueeze(0))\n",
    "print(cosine_similarity_ans_GPT4_formula)"
   ]
  },
  {
   "cell_type": "markdown",
   "id": "0e107e21",
   "metadata": {},
   "source": [
    "## Generated questions and answers by GPT-3.5 model and calculate similarity respectively"
   ]
  },
  {
   "cell_type": "code",
   "execution_count": 75,
   "id": "fc63b314",
   "metadata": {
    "scrolled": true
   },
   "outputs": [
    {
     "name": "stdout",
     "output_type": "stream",
     "text": [
      "Generated Questions:\n",
      "Exam Questions:\n",
      "\n",
      "1. What does the expression \\(\\sigma(v)\\) denote?\n",
      "2. What is the effect of applying the vectorized form of the function \\(f (x) = x^{2}\\) to the vector \\(\\begin{matrix} 2 \\\\ 3 \\end{matrix}\\)?\n",
      "3. What is the purpose of defining a weight matrix \\(w^{l}\\) for each layer, l?\n",
      "4. What is the purpose of defining a bias vector \\(b^{l}\\) for each layer, l?\n",
      "5. What is the purpose of defining an activation vector \\(a^{l}\\) for each layer, l?\n",
      "6. How does Equation 2.1 differ from the matrix form?\n",
      "7. What is the quirk in the \\(w^{l}_{jk}\\) notation?\n",
      "8. What is the purpose of computing the intermediate quantity \\( z^{l-1} \\equiv w^{l} a^{l-1} + b^{l}\\)?\n",
      "9. What is the difference between the neuron-by-neuron view and the global view of computing the activations in a layer?\n",
      "10. How is the expression \\(a^{l} = \\sigma(w^{l} a^{l-1} + b^{l})\\) useful in practice?\n",
      "11. What is the purpose of Equation 2.3?\n",
      "12. What is the effect of the vectorized form of the function \\(f (x) = x^2\\) on a vector?\n",
      "13. What is the value of \\(b^{l}_{j}\\) for each neuron in the l-th layer?\n",
      "14. How does the expression \\(a^{l} = \\sigma(w^{l} a^{l-1} + b^{l})\\) help to escape index hell?\n"
     ]
    }
   ],
   "source": [
    "# the original text\n",
    "example_text_formula = new_text_formula\n",
    "\n",
    "# test TeacherAssistant class\n",
    "teacher_assistant_formula = TeacherAssistantGPT3()\n",
    "\n",
    "# generate the questions\n",
    "generated_questionsGPT3_formula = teacher_assistant_formula.generate_questions(example_text)\n",
    "print(f\"Generated Questions:\\n{generated_questionsGPT3_formula}\")"
   ]
  },
  {
   "cell_type": "code",
   "execution_count": 76,
   "id": "922c4055",
   "metadata": {},
   "outputs": [
    {
     "name": "stdout",
     "output_type": "stream",
     "text": [
      "tensor([0.9627])\n"
     ]
    }
   ],
   "source": [
    "# Check the relativity between the text generated by GPT-3.5 and original textbook content\n",
    "# Load pre-trained model and tokenizer\n",
    "tokenizer = BertTokenizer.from_pretrained('bert-base-uncased')\n",
    "model = BertModel.from_pretrained('bert-base-uncased')\n",
    "\n",
    "# prepare the text\n",
    "question_by_GPT3_formula =generated_questionsGPT3_formula\n",
    "\n",
    "text_formula = new_text_formula\n",
    "texts = [question_by_GPT3_formula, text_formula]\n",
    "\n",
    "# encode text\n",
    "encoded_input = tokenizer(texts_formula, padding=True, truncation=True, return_tensors='pt')\n",
    "with torch.no_grad():\n",
    "    model_output = model(**encoded_input)\n",
    "\n",
    "# Extract features from the embedding layer\n",
    "embeddings = model_output.last_hidden_state.mean(dim=1)\n",
    "\n",
    "# compute similarity\n",
    "cosine_similarity_ques_GPT3_formula = torch.nn.functional.cosine_similarity(embeddings[0].unsqueeze(0), embeddings[1].unsqueeze(0))\n",
    "print(cosine_similarity_ques_GPT3_formula)"
   ]
  },
  {
   "cell_type": "code",
   "execution_count": 77,
   "id": "2a89260b",
   "metadata": {
    "scrolled": true
   },
   "outputs": [
    {
     "name": "stdout",
     "output_type": "stream",
     "text": [
      "\n",
      "Query[1]: Exam Questions:\n",
      "Answer: Substituting this into the previous equation, we get\n",
      "\n",
      "$\\delta^l_j = \\sum_k \\delta^{l+1}_k w^{l+1}_{kj} \\sigma'(z^l_j)$ (2.21)\n",
      "\n",
      "which is just (BP2).\n",
      "\n",
      "Query[2]: 1. What does the expression \\(\\sigma(v)\\) denote?\n",
      "Answer: The expression \\(\\sigma(v)\\) denotes an activation function, which is used to map a weighted sum of inputs (v) to an output.\n",
      "\n",
      "Query[3]: 2. What is the effect of applying the vectorized form of the function \\(f (x) = x^{2}\\) to the vector \\(\\begin{matrix} 2 \\\\ 3 \\end{matrix}\\)?\n",
      "Answer: The effect of applying the vectorized form of the function f(x) = x2 to the vector (2, 3) is to calculate the squares of both numbers, resulting in (4, 9).\n",
      "\n",
      "Query[4]: 3. What is the purpose of defining a weight matrix \\(w^{l}\\) for each layer, l?\n",
      "Answer: The purpose of defining a weight matrix \\(w^{l}\\) for each layer, l is to enable the neural network to learn the best parameters for the model, thus optimizing the output of the model for a given input. The weights in the matrix represent the strength of the connection between neurons in different layers, and the weights are adjusted during training to find the best combination of parameters that will produce the desired output.\n",
      "\n",
      "Query[5]: 4. What is the purpose of defining a bias vector \\(b^{l}\\) for each layer, l?\n",
      "Answer: The purpose of defining a bias vector \\(b^l\\) for each layer, l, is to capture the effect of differences in the input data. By adding the bias vector to the input vector, the neural network is able to account for variations in the input and output data due to factors such as noise or outliers. The bias vector provides the network with a way to adjust its predictions based on the input data in order to make more accurate predictions.\n",
      "\n",
      "Query[6]: 5. What is the purpose of defining an activation vector \\(a^{l}\\) for each layer, l?\n",
      "Answer: The purpose of defining an activation vector $a^l$ for each layer, l, is to represent the output of a given layer in the neural network. This activation vector is used to calculate the output error $\\delta^l_j$ using the chain rule from multivariable calculus.\n",
      "\n",
      "Query[7]: 6. How does Equation 2.1 differ from the matrix form?\n",
      "Answer: Equation 2.1 is the component form of the equation, while the matrix form is a more condensed form of the equation that is written as a matrix equation.\n",
      "\n",
      "Query[8]: 7. What is the quirk in the \\(w^{l}_{jk}\\) notation?\n",
      "Answer: The quirk in the \\(w^{l}_{jk}\\) notation is that the \"j\" and \"k\" indices refer to the neuron in the current layer (j) and the neuron in the next layer (k).\n",
      "\n",
      "Query[9]: 8. What is the purpose of computing the intermediate quantity \\( z^{l-1} \\equiv w^{l} a^{l-1} + b^{l}\\)?\n",
      "Answer: The purpose of computing the intermediate quantity \\( z^{l-1} \\equiv w^{l} a^{l-1} + b^{l}\\) is to determine the weighted inputs to the activation functions for the neurons in the next layer. This allows us to calculate the output activations for the neurons in the next layer, which are needed to calculate the errors in the neurons of the current layer using the chain rule.\n",
      "\n",
      "Query[10]: 9. What is the difference between the neuron-by-neuron view and the global view of computing the activations in a layer?\n",
      "Answer: The neuron-by-neuron view involves computing the activations of each neuron separately, while the global view involves computing the activations of a layer as a whole.\n",
      "\n",
      "Query[11]: 10. How is the expression \\(a^{l} = \\sigma(w^{l} a^{l-1} + b^{l})\\) useful in practice?\n",
      "Answer: This expression is useful in practice because it allows us to calculate the activations of each layer in a neural network based on the weights and biases of the network. By computing the activations of each layer, we can then use them to calculate the output of the network.\n",
      "\n",
      "Query[12]: 11. What is the purpose of Equation 2.3?\n",
      "Answer: Equation 2.3 is used to prove the four fundamental equations (BP1)-(BP4).\n",
      "\n",
      "Query[13]: 12. What is the effect of the vectorized form of the function \\(f (x) = x^2\\) on a vector?\n",
      "Answer: The vectorized form of the function \\(f (x) = x^2\\) will have the effect of squaring each element of the vector.\n",
      "\n",
      "Query[14]: 13. What is the value of \\(b^{l}_{j}\\) for each neuron in the l-th layer?\n",
      "Answer: \\(b^{l}_{j}\\) is the bias of the j-th neuron in the l-th layer.\n",
      "\n",
      "Query[15]: 14. How does the expression \\(a^{l} = \\sigma(w^{l} a^{l-1} + b^{l})\\) help to escape index hell?\n",
      "Answer: The expression \\(a^{l} = \\sigma(w^{l} a^{l-1} + b^{l})\\) helps to escape index hell by making it easier to express equations in terms of the activations in the previous layer. This is done by taking the derivative of the expression with respect to the activations in the previous layer, which allows us to rewrite equations with fewer indices and thus avoid index hell.\n"
     ]
    }
   ],
   "source": [
    "example_text_formula = new_text_formula\n",
    "\n",
    "# Split the generated question string into a separate list of questions\n",
    "generated_questions_list_formula = generated_questionsGPT3_formula.split('\\n')\n",
    "\n",
    "# Remove empty strings\n",
    "generated_questions_list_formula = [q for q in generated_questions_list_formula if q]\n",
    "\n",
    "# test query\n",
    "queries_formula = generated_questions_list_formula\n",
    "student_assistant_formula = StudentAssistantGPT3()\n",
    "all_ansGPT3_formula = ''\n",
    "for i, query in enumerate(queries_formula):\n",
    "    print(f\"\\nQuery[{i + 1}]: {query}\")\n",
    "    answer_formula = student_assistant_formula.process(query, example_text_formula)\n",
    "    all_ansGPT3_formula += answer_formula\n",
    "    print(f\"Answer: {answer_formula}\")"
   ]
  },
  {
   "cell_type": "code",
   "execution_count": 78,
   "id": "6c54099d",
   "metadata": {},
   "outputs": [
    {
     "name": "stdout",
     "output_type": "stream",
     "text": [
      "tensor([0.9326])\n"
     ]
    }
   ],
   "source": [
    "# Load pre-trained model and tokenizer\n",
    "tokenizer = BertTokenizer.from_pretrained('bert-base-uncased')\n",
    "model = BertModel.from_pretrained('bert-base-uncased')\n",
    "\n",
    "# prepare the text\n",
    "ansGPT3_formula = all_ansGPT3_formula\n",
    "text_formula = new_text_formula\n",
    "\n",
    "texts_formula = [new_text_formula, ansGPT3_formula]\n",
    "\n",
    "# encode text\n",
    "encoded_input = tokenizer(texts_formula, padding=True, truncation=True, return_tensors='pt')\n",
    "with torch.no_grad():\n",
    "    model_output = model(**encoded_input)\n",
    "\n",
    "# Extract features from the embedding layer\n",
    "embeddings = model_output.last_hidden_state.mean(dim=1)\n",
    "\n",
    "# compute similarity\n",
    "cosine_similarity_ans_GPT3_formula = torch.nn.functional.cosine_similarity(embeddings[0].unsqueeze(0), embeddings[1].unsqueeze(0))\n",
    "print(cosine_similarity_ans_GPT3_formula)"
   ]
  },
  {
   "cell_type": "markdown",
   "id": "a0e13b38",
   "metadata": {},
   "source": [
    "## Plot the comparison figure for page with many formulas"
   ]
  },
  {
   "cell_type": "code",
   "execution_count": 79,
   "id": "c7c13171",
   "metadata": {},
   "outputs": [
    {
     "data": {
      "image/png": "[encoded data removed]",
      "text/plain": [
       "<Figure size 1000x800 with 1 Axes>"
      ]
     },
     "metadata": {},
     "output_type": "display_data"
    }
   ],
   "source": [
    "# data\n",
    "ans_tesor_GPT4_formula = cosine_similarity_ans_GPT4_formula[0].item()\n",
    "ans_tensor_GPT3_formula = cosine_similarity_ans_GPT3_formula[0].item()\n",
    "ques_tensor_GPT4_formula = cosine_similarity_ques_GPT4_formula[0].item()\n",
    "ques_tensor_GPT3_formula = cosine_similarity_ques_GPT3_formula[0].item()\n",
    "\n",
    "group_ans_formula = [ques_tensor_GPT3_formula, ans_tensor_GPT3_formula]\n",
    "group_ques_formula = [ques_tensor_GPT4_formula, ans_tesor_GPT4_formula]\n",
    "\n",
    "labels = ['The Comparison of TeacherAssistant System', 'The Comparison of StudentAssistant System']\n",
    "\n",
    "# Set the position of the bar chart\n",
    "x = np.arange(len(labels)) * 0.6  # the position of label\n",
    "width = 0.2  # width of chart\n",
    "\n",
    "# Create a bar chart\n",
    "fig, ax = plt.subplots(figsize=(10,8))\n",
    "rects1_formula = ax.bar(x - width/2, group_ques_formula, width, label='Content generated by GPT-4')\n",
    "rects2_formula = ax.bar(x + width/2, group_ans_formula, width, label='Content generated by GPT-3.5')\n",
    "for rect in rects1_formula + rects2_formula:\n",
    "    height = rect.get_height()\n",
    "    ax.text(rect.get_x() + rect.get_width() / 2., 1.01*height,\n",
    "            f'{height:.2f}', ha='center', va='bottom')\n",
    "\n",
    "# Add titles and labels\n",
    "ax.set_ylabel('Similarity')\n",
    "ax.set_title('Comparison of the similarity between different models')\n",
    "ax.set_xticks(x)\n",
    "ax.set_xticklabels(labels)\n",
    "ax.legend(fontsize=8, loc='lower right')\n",
    "plt.show()"
   ]
  }
 ],
 "metadata": {
  "kernelspec": {
   "display_name": "Python 3 (ipykernel)",
   "language": "python",
   "name": "python3"
  },
  "language_info": {
   "codemirror_mode": {
    "name": "ipython",
    "version": 3
   },
   "file_extension": ".py",
   "mimetype": "text/x-python",
   "name": "python",
   "nbconvert_exporter": "python",
   "pygments_lexer": "ipython3",
   "version": "3.9.18"
  }
 },
 "nbformat": 4,
 "nbformat_minor": 5
}
